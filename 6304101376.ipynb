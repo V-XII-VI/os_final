{
  "nbformat": 4,
  "nbformat_minor": 0,
  "metadata": {
    "colab": {
      "provenance": []
    },
    "kernelspec": {
      "name": "python3",
      "display_name": "Python 3"
    },
    "language_info": {
      "name": "python"
    }
  },
  "cells": [
    {
      "cell_type": "markdown",
      "source": [
        "#รหัสนักศึกษา = 6304101376\n",
        "#ชื่อ = นายอนุภัทร ภู่ทอง\n",
        "#SEC = 1"
      ],
      "metadata": {
        "id": "PdFI8lEiM22E"
      }
    }
  ]
}